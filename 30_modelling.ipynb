{
 "cells": [
  {
   "cell_type": "code",
   "execution_count": 1,
   "metadata": {},
   "outputs": [],
   "source": [
    "import re, string, os\n",
    "import pandas as pd\n",
    "import numpy as np\n",
    "import jiwer\n",
    "from jiwer import wer\n",
    "import pickle\n",
    "import regex as re\n",
    "import nltk\n",
    "import itertools\n",
    "from sklearn.ensemble import RandomForestClassifier\n",
    "#nltk.download('words')\n",
    "import warnings\n",
    "warnings.filterwarnings(\"ignore\")\n",
    "\n",
    "from functions import *"
   ]
  },
  {
   "cell_type": "markdown",
   "metadata": {},
   "source": [
    "# Importing data"
   ]
  },
  {
   "cell_type": "code",
   "execution_count": 2,
   "metadata": {
    "scrolled": true
   },
   "outputs": [],
   "source": [
    "train = pd.read_pickle(\"./Data/alignData/ent_with_ref.pkl\") \n",
    "test = pd.read_pickle(\"./Data/alignment_test.pkl\") \n",
    "voting = pd.read_pickle(\"./Data/assessment_voting.pkl\") \n",
    "\n",
    "reference_texts_validation = pickle.load(open('./Data/reference_texts_validation.pkl', 'rb'))\n",
    "reference_texts_test = pickle.load(open('./Data/reference_texts_test.pkl', 'rb'))\n",
    "reference_texts_train = pickle.load(open('./Data/reference_texts_train.pkl', 'rb'))"
   ]
  },
  {
   "cell_type": "markdown",
   "metadata": {},
   "source": [
    "# Encoding words"
   ]
  },
  {
   "cell_type": "code",
   "execution_count": 3,
   "metadata": {},
   "outputs": [],
   "source": [
    "le, col = word_encoding(train, test)\n",
    "train[col] = train[col].apply(lambda x :le.transform(x))"
   ]
  },
  {
   "cell_type": "markdown",
   "metadata": {},
   "source": [
    "# Training data preparation"
   ]
  },
  {
   "cell_type": "code",
   "execution_count": 4,
   "metadata": {},
   "outputs": [],
   "source": [
    "train_data, col_name, machines, match = train_data_v1(train, reference_texts_train, reference_texts_validation)"
   ]
  },
  {
   "cell_type": "code",
   "execution_count": 5,
   "metadata": {},
   "outputs": [
    {
     "name": "stderr",
     "output_type": "stream",
     "text": [
      "100%|██████████| 15047/15047 [07:26<00:00, 33.66it/s]\n"
     ]
    }
   ],
   "source": [
    "# Upsampling\n",
    "train_data = upsampling(train_data)\n",
    "train_data.to_pickle(\"./Data/train_data_upsampled.pkl\")"
   ]
  },
  {
   "cell_type": "code",
   "execution_count": 6,
   "metadata": {},
   "outputs": [
    {
     "name": "stderr",
     "output_type": "stream",
     "text": [
      "100%|██████████| 371207/371207 [28:59<00:00, 213.36it/s]\n"
     ]
    }
   ],
   "source": [
    "# machine tracker creation\n",
    "train_data_ref = train_data.copy()\n",
    "train_data = machine_tracker(train_data, col_name, machines, match)\n",
    "train_data.to_pickle(\"./Data/train_data_final.pkl\")"
   ]
  },
  {
   "cell_type": "markdown",
   "metadata": {},
   "source": [
    "# Random forest"
   ]
  },
  {
   "cell_type": "code",
   "execution_count": 9,
   "metadata": {},
   "outputs": [],
   "source": [
    "train_data = pd.read_pickle(\"./Data/train_data_final.pkl\")"
   ]
  },
  {
   "cell_type": "code",
   "execution_count": 8,
   "metadata": {},
   "outputs": [
    {
     "data": {
      "text/plain": [
       "RandomForestClassifier(bootstrap=True, class_weight=None, criterion='gini',\n",
       "                       max_depth=None, max_features='auto', max_leaf_nodes=None,\n",
       "                       min_impurity_decrease=0.0, min_impurity_split=None,\n",
       "                       min_samples_leaf=3, min_samples_split=2,\n",
       "                       min_weight_fraction_leaf=0.0, n_estimators=20, n_jobs=-1,\n",
       "                       oob_score=False, random_state=None, verbose=0,\n",
       "                       warm_start=False)"
      ]
     },
     "execution_count": 8,
     "metadata": {},
     "output_type": "execute_result"
    }
   ],
   "source": [
    "X_train, y_train = train_test_split(train_data)\n",
    "regr = RandomForestClassifier(n_estimators = 20, min_samples_leaf=3, n_jobs=-1)\n",
    "regr.fit(X_train, y_train)"
   ]
  },
  {
   "cell_type": "code",
   "execution_count": 6,
   "metadata": {},
   "outputs": [],
   "source": [
    "#pickle.dump(regr, open('random_forest_classifier.sav', 'wb'), protocol=4)"
   ]
  },
  {
   "cell_type": "markdown",
   "metadata": {},
   "source": [
    "# Test data"
   ]
  },
  {
   "cell_type": "code",
   "execution_count": 9,
   "metadata": {},
   "outputs": [],
   "source": [
    "test_reduced, col_test, reference_texts_test_reduced = test_data_preparation_1(test, reference_texts_test)\n",
    "test_reduced[col_test] = test_reduced[col_test].apply(lambda x :le.transform(x))\n",
    "test_reduced_df, machines_test, match_test = test_data_preparation_2(test_reduced)\n",
    "test_reduced_df = first_prediction(test_reduced_df, regr)"
   ]
  },
  {
   "cell_type": "code",
   "execution_count": null,
   "metadata": {},
   "outputs": [],
   "source": [
    "test_reduced_df2 = test_predictions(test_reduced_df, machines_test, match_test, regr, col_test)\n",
    "#test_reduced_df2.to_pickle(\"./Test_predictions_final(full)_pickl.pkl\")"
   ]
  },
  {
   "cell_type": "markdown",
   "metadata": {},
   "source": [
    "# Comparison Analysis"
   ]
  },
  {
   "cell_type": "code",
   "execution_count": 10,
   "metadata": {},
   "outputs": [
    {
     "name": "stderr",
     "output_type": "stream",
     "text": [
      "100%|██████████| 2802/2802 [01:08<00:00, 41.09it/s]\n"
     ]
    }
   ],
   "source": [
    "ori_df = pd.read_pickle(\"./Data/Dataframe/df_clean.pkl\") \n",
    "ori_df = raw_data_preparation(ori_df)\n",
    "\n",
    "test_reduced_df = pd.read_pickle(\"./Data/Test_predictions_final(full)_pickl.pkl\")\n",
    "\n",
    "assessment_model = assessment_dataframe_creation(ori_df, test_reduced_df, reference_texts_test_reduced, le)\n",
    "assessment_model.to_pickle(\"./Data/assessment_model.pkl\")"
   ]
  },
  {
   "cell_type": "code",
   "execution_count": 12,
   "metadata": {},
   "outputs": [],
   "source": [
    "#pd.set_option('display.max_colwidth',-1)\n",
    "#assessment_model[assessment_model['model_wer'] < assessment_model['machine_wer']]"
   ]
  },
  {
   "cell_type": "markdown",
   "metadata": {},
   "source": [
    "## Example"
   ]
  },
  {
   "cell_type": "code",
   "execution_count": 14,
   "metadata": {},
   "outputs": [
    {
     "name": "stdout",
     "output_type": "stream",
     "text": [
      "\u001b[1mGround truth: \u001b[0m\n",
      "\u001b[94mas we start to have cyborg bodies for exploration or for other means in in many sort of post human futures that i that i can imagine as a science fiction fan so having done these these\u001b[0m\n",
      "\n",
      "\u001b[1mModel Prediction:\u001b[0m\n",
      "\u001b[92mas we start to have desegregation bodies for exploration of for other means and in many sort of post human that that i can imagine as a science fiction fan so having done these these um\u001b[0m\n",
      "\n",
      "\u001b[1mBest machine :\u001b[0m 4_iaebglebg\n",
      "\u001b[91mas we start to have cyborg bodies for exploration for other means and in many sort of post human future is that that i can imagine as a science fiction fan so having done these these\u001b[0m\n",
      "\n",
      "-----------------------------------------------------------------------------\n",
      "\u001b[1mWER model:        \u001b[0m 0.16216216216216217\n",
      "\u001b[1mWER best machine: \u001b[0m 0.13513513513513514\n",
      "-----------------------------------------------------------------------------\n",
      "\u001b[1mMean WER model:   \u001b[0m 0.22380283015956312\n",
      "\u001b[1mMean WER model:   \u001b[0m 0.09504199017870853\n",
      "-----------------------------------------------------------------------------\n"
     ]
    }
   ],
   "source": [
    "sent = 65\n",
    "comparison(sent, test_reduced_df, reference_texts_test_reduced, le, assessment_model, ori_df)"
   ]
  }
 ],
 "metadata": {
  "kernelspec": {
   "display_name": "Python 3",
   "language": "python",
   "name": "python3"
  },
  "language_info": {
   "codemirror_mode": {
    "name": "ipython",
    "version": 3
   },
   "file_extension": ".py",
   "mimetype": "text/x-python",
   "name": "python",
   "nbconvert_exporter": "python",
   "pygments_lexer": "ipython3",
   "version": "3.6.9"
  }
 },
 "nbformat": 4,
 "nbformat_minor": 4
}
