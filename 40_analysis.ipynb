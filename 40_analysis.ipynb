{
 "cells": [
  {
   "cell_type": "code",
   "execution_count": 1,
   "metadata": {},
   "outputs": [],
   "source": [
    "import pandas as pd\n",
    "import numpy as np\n",
    "from tqdm import tqdm\n",
    "import pickle\n",
    "import regex as re\n",
    "import warnings\n",
    "warnings.filterwarnings(\"ignore\")\n",
    "import jiwer\n",
    "from jiwer import wer\n",
    "\n",
    "from functions import *"
   ]
  },
  {
   "cell_type": "markdown",
   "metadata": {},
   "source": [
    "# Loading data"
   ]
  },
  {
   "cell_type": "code",
   "execution_count": 2,
   "metadata": {},
   "outputs": [],
   "source": [
    "model = pd.read_pickle(\"./Data/assessment_model.pkl\") \n",
    "voting =  pd.read_pickle(\"./Data/assessment_voting.pkl\") \n",
    "voting = voting[voting['reference.text'].isin(model['reference.text'].unique().tolist())]\n",
    "assessment_df = pd.merge(voting, model, on='reference.text').drop(['machine_wer', 'best_machine_sentence', 'best_machine'], axis=1)\n",
    "assessment_df['model_class'] = np.where((assessment_df['model_wer'] < assessment_df['min_wer']) , 'better', \n",
    "                               np.where((assessment_df['model_wer'] > assessment_df['min_wer']) , 'worse', 'same'))\n",
    "assessment_df.to_pickle(\"./Data/assessment_comparison.pkl\")"
   ]
  },
  {
   "cell_type": "code",
   "execution_count": 3,
   "metadata": {},
   "outputs": [
    {
     "name": "stdout",
     "output_type": "stream",
     "text": [
      "(2802, 10)\n"
     ]
    },
    {
     "data": {
      "text/html": [
       "<div>\n",
       "<style scoped>\n",
       "    .dataframe tbody tr th:only-of-type {\n",
       "        vertical-align: middle;\n",
       "    }\n",
       "\n",
       "    .dataframe tbody tr th {\n",
       "        vertical-align: top;\n",
       "    }\n",
       "\n",
       "    .dataframe thead th {\n",
       "        text-align: right;\n",
       "    }\n",
       "</style>\n",
       "<table border=\"1\" class=\"dataframe\">\n",
       "  <thead>\n",
       "    <tr style=\"text-align: right;\">\n",
       "      <th></th>\n",
       "      <th>reference.text</th>\n",
       "      <th>min_wer</th>\n",
       "      <th>best_config</th>\n",
       "      <th>best_hyp</th>\n",
       "      <th>voting_result</th>\n",
       "      <th>voting_wer</th>\n",
       "      <th>voting_class</th>\n",
       "      <th>model_hypothesis</th>\n",
       "      <th>model_wer</th>\n",
       "      <th>model_class</th>\n",
       "    </tr>\n",
       "  </thead>\n",
       "  <tbody>\n",
       "    <tr>\n",
       "      <th>0</th>\n",
       "      <td>it was produced on one hand by the natural gro...</td>\n",
       "      <td>0.00</td>\n",
       "      <td>[3_mdagrmlg]</td>\n",
       "      <td>[it was produced on one hand by the natural gr...</td>\n",
       "      <td>it was produced on one hand by the natural gro...</td>\n",
       "      <td>0.100000</td>\n",
       "      <td>worse</td>\n",
       "      <td>it was produced on one hand by the natural gro...</td>\n",
       "      <td>0.100000</td>\n",
       "      <td>worse</td>\n",
       "    </tr>\n",
       "    <tr>\n",
       "      <th>1</th>\n",
       "      <td>the upper classes know that an army of fifty t...</td>\n",
       "      <td>0.03</td>\n",
       "      <td>[5_ae, 5_a]</td>\n",
       "      <td>[the upper classes know that an army of fifty ...</td>\n",
       "      <td>yet the classes know that an army of fifty tho...</td>\n",
       "      <td>0.135135</td>\n",
       "      <td>worse</td>\n",
       "      <td>the vacantly classes know that an army of fift...</td>\n",
       "      <td>0.216216</td>\n",
       "      <td>worse</td>\n",
       "    </tr>\n",
       "    <tr>\n",
       "      <th>2</th>\n",
       "      <td>but the fatal significance of universal milita...</td>\n",
       "      <td>0.00</td>\n",
       "      <td>[5_ae, 5_a]</td>\n",
       "      <td>[but the fatal significance of universal milit...</td>\n",
       "      <td>but the fatal significance of universal milita...</td>\n",
       "      <td>0.037037</td>\n",
       "      <td>worse</td>\n",
       "      <td>but the identify of universal military service...</td>\n",
       "      <td>0.222222</td>\n",
       "      <td>worse</td>\n",
       "    </tr>\n",
       "    <tr>\n",
       "      <th>3</th>\n",
       "      <td>but since this is not the case and on the cont...</td>\n",
       "      <td>0.08</td>\n",
       "      <td>[5_ae, 5_a, 3_mdagmlg]</td>\n",
       "      <td>[but since this is not the case and on the con...</td>\n",
       "      <td>but since this is not the case and on the cont...</td>\n",
       "      <td>0.052632</td>\n",
       "      <td>better</td>\n",
       "      <td>but since this is not the case and on the cont...</td>\n",
       "      <td>0.105263</td>\n",
       "      <td>worse</td>\n",
       "    </tr>\n",
       "    <tr>\n",
       "      <th>4</th>\n",
       "      <td>we know now that threats and punishments canno...</td>\n",
       "      <td>0.08</td>\n",
       "      <td>[3_mdagrmlg]</td>\n",
       "      <td>[we now know that threats and punishments cann...</td>\n",
       "      <td>we now know that threats and punishments canno...</td>\n",
       "      <td>0.125000</td>\n",
       "      <td>worse</td>\n",
       "      <td>we now know that threats and punishment cannot...</td>\n",
       "      <td>0.125000</td>\n",
       "      <td>worse</td>\n",
       "    </tr>\n",
       "  </tbody>\n",
       "</table>\n",
       "</div>"
      ],
      "text/plain": [
       "                                      reference.text  min_wer  \\\n",
       "0  it was produced on one hand by the natural gro...     0.00   \n",
       "1  the upper classes know that an army of fifty t...     0.03   \n",
       "2  but the fatal significance of universal milita...     0.00   \n",
       "3  but since this is not the case and on the cont...     0.08   \n",
       "4  we know now that threats and punishments canno...     0.08   \n",
       "\n",
       "              best_config                                           best_hyp  \\\n",
       "0            [3_mdagrmlg]  [it was produced on one hand by the natural gr...   \n",
       "1             [5_ae, 5_a]  [the upper classes know that an army of fifty ...   \n",
       "2             [5_ae, 5_a]  [but the fatal significance of universal milit...   \n",
       "3  [5_ae, 5_a, 3_mdagmlg]  [but since this is not the case and on the con...   \n",
       "4            [3_mdagrmlg]  [we now know that threats and punishments cann...   \n",
       "\n",
       "                                       voting_result  voting_wer voting_class  \\\n",
       "0  it was produced on one hand by the natural gro...    0.100000        worse   \n",
       "1  yet the classes know that an army of fifty tho...    0.135135        worse   \n",
       "2  but the fatal significance of universal milita...    0.037037        worse   \n",
       "3  but since this is not the case and on the cont...    0.052632       better   \n",
       "4  we now know that threats and punishments canno...    0.125000        worse   \n",
       "\n",
       "                                    model_hypothesis  model_wer model_class  \n",
       "0  it was produced on one hand by the natural gro...   0.100000       worse  \n",
       "1  the vacantly classes know that an army of fift...   0.216216       worse  \n",
       "2  but the identify of universal military service...   0.222222       worse  \n",
       "3  but since this is not the case and on the cont...   0.105263       worse  \n",
       "4  we now know that threats and punishment cannot...   0.125000       worse  "
      ]
     },
     "execution_count": 3,
     "metadata": {},
     "output_type": "execute_result"
    }
   ],
   "source": [
    "print(assessment_df.shape)\n",
    "assessment_df.head()"
   ]
  },
  {
   "cell_type": "code",
   "execution_count": 4,
   "metadata": {},
   "outputs": [
    {
     "data": {
      "text/plain": [
       "same      1271\n",
       "worse     1255\n",
       "better     276\n",
       "Name: voting_class, dtype: int64"
      ]
     },
     "execution_count": 4,
     "metadata": {},
     "output_type": "execute_result"
    }
   ],
   "source": [
    "assessment_df['voting_class'].value_counts()"
   ]
  },
  {
   "cell_type": "code",
   "execution_count": 5,
   "metadata": {},
   "outputs": [
    {
     "data": {
      "text/plain": [
       "worse     2078\n",
       "same       644\n",
       "better      80\n",
       "Name: model_class, dtype: int64"
      ]
     },
     "execution_count": 5,
     "metadata": {},
     "output_type": "execute_result"
    }
   ],
   "source": [
    "assessment_df['model_class'].value_counts()"
   ]
  },
  {
   "cell_type": "code",
   "execution_count": 6,
   "metadata": {},
   "outputs": [
    {
     "name": "stdout",
     "output_type": "stream",
     "text": [
      "Voting better than model:  1627\n",
      "Model better than voting:  168\n"
     ]
    }
   ],
   "source": [
    "model_win = assessment_df[assessment_df['voting_wer'] > assessment_df['model_wer']].shape[0]\n",
    "voting_win = assessment_df[assessment_df['voting_wer'] < assessment_df['model_wer']].shape[0]\n",
    "print('Voting better than model: ', voting_win)\n",
    "print('Model better than voting: ', model_win)"
   ]
  },
  {
   "cell_type": "code",
   "execution_count": 7,
   "metadata": {},
   "outputs": [
    {
     "name": "stdout",
     "output_type": "stream",
     "text": [
      "WER mean machines:  0.09467166309778731\n",
      "WER mean voting  :  0.14165723781358147\n",
      "WER mean model   :  0.22380283015956318\n"
     ]
    }
   ],
   "source": [
    "print('WER mean machines: ', assessment_df['min_wer'].mean())\n",
    "print('WER mean voting  : ', assessment_df['voting_wer'].mean())\n",
    "print('WER mean model   : ', assessment_df['model_wer'].mean())"
   ]
  },
  {
   "cell_type": "markdown",
   "metadata": {},
   "source": [
    "# Test prediction Analysis"
   ]
  },
  {
   "cell_type": "code",
   "execution_count": 8,
   "metadata": {},
   "outputs": [],
   "source": [
    "train = pd.read_pickle(\"./Data/alignment_with_ref.pkl\") \n",
    "test = pd.read_pickle(\"./Data/alignment_test.pkl\") \n",
    "\n",
    "le, col = word_encoding(train, test)\n",
    "train[col] = train[col].apply(lambda x :le.transform(x))"
   ]
  },
  {
   "cell_type": "code",
   "execution_count": 9,
   "metadata": {},
   "outputs": [],
   "source": [
    "test_df = pd.read_pickle(\"./Data/Test_predictions_final(full)_pickl.pkl\")"
   ]
  },
  {
   "cell_type": "code",
   "execution_count": 10,
   "metadata": {},
   "outputs": [
    {
     "name": "stderr",
     "output_type": "stream",
     "text": [
      "100%|█████████████████████████████████████████████████████████████████████████| 43316/43316 [00:02<00:00, 20502.77it/s]\n"
     ]
    }
   ],
   "source": [
    "thresh = 50\n",
    "test_df_transformed = prediction_data_preparation(test_df, le, thresh)"
   ]
  },
  {
   "cell_type": "code",
   "execution_count": 11,
   "metadata": {},
   "outputs": [
    {
     "name": "stderr",
     "output_type": "stream",
     "text": [
      "100%|██████████████████████████████████████████████████████████████████████████████| 2802/2802 [00:35<00:00, 78.19it/s]\n"
     ]
    }
   ],
   "source": [
    "sentences = test_df['reference.text'].unique().tolist()\n",
    "predictions_sentences, selected_sentences = sentence_probability(sentences, test_df_transformed)"
   ]
  },
  {
   "cell_type": "code",
   "execution_count": 12,
   "metadata": {},
   "outputs": [],
   "source": [
    "# example rows where model performs better then best ASR machines\n",
    "model_better_than_min_wer = assessment_df[assessment_df['model_wer'] < assessment_df['min_wer']].index.tolist()"
   ]
  },
  {
   "cell_type": "code",
   "execution_count": 20,
   "metadata": {},
   "outputs": [
    {
     "name": "stdout",
     "output_type": "stream",
     "text": [
      "Ground truth: \n",
      "the rector did not ask for a catechism to hear the lesson from\n",
      "\n",
      "Best Machine: \n",
      "the rector did not ask for a catechism to hear the lesson from\n",
      "-----------------------------------------------------------------------------\n",
      "WER Best Machine:    0.0\n",
      "-----------------------------------------------------------------------------\n",
      "\n",
      "Voting: \n",
      "director did not ask for a catechism to hear the lesson from\n",
      "-----------------------------------------------------------------------------\n",
      "WER Voting:          0.15384615384615385\n",
      "-----------------------------------------------------------------------------\n",
      "\n",
      "Model prediction: \n",
      "desegregation did not ask for a to hear the lesson from\n",
      "-----------------------------------------------------------------------------\n",
      "WER model:          0.23076923076923078\n",
      "-----------------------------------------------------------------------------\n",
      "\n",
      "50% treshold: \n",
      "_ did not ask for a to hear the lesson from\n",
      "-----------------------------------------------------------------------------\n",
      "WER 50% treshold:   0.23076923076923078\n",
      "-----------------------------------------------------------------------------\n"
     ]
    }
   ],
   "source": [
    "example_sentence = 60\n",
    "probability_analysis(sentences, predictions_sentences, selected_sentences, example_sentence, assessment_df)"
   ]
  },
  {
   "cell_type": "code",
   "execution_count": 17,
   "metadata": {},
   "outputs": [],
   "source": [
    "#test_df_transformed[test_df_transformed['reference.text'] == 'to the fervent latter day saint a temple is not simply a church building a house for religious assembly']"
   ]
  },
  {
   "cell_type": "markdown",
   "metadata": {},
   "source": [
    "# Creating comparison dataframe"
   ]
  },
  {
   "cell_type": "code",
   "execution_count": 18,
   "metadata": {},
   "outputs": [
    {
     "name": "stderr",
     "output_type": "stream",
     "text": [
      "100%|██████████████████████████████████████████████████████████████████████████████| 2802/2802 [43:24<00:00,  1.08it/s]\n"
     ]
    }
   ],
   "source": [
    "truth = []\n",
    "best_machine = []\n",
    "machine_wer = []\n",
    "model_prediction = []\n",
    "model_wer = []\n",
    "thresh = []\n",
    "thresh_wer = []\n",
    "\n",
    "for x in tqdm(range(len(sentences))):\n",
    "    best_machine.append(assessment_df[assessment_df['reference.text'] == sentences[x]]['best_hyp'].tolist()[0][0])    \n",
    "    truth.append(sentences[x])\n",
    "    machine_wer.append(wer(sentences[x], best_machine))\n",
    "    model_prediction.append(predictions_sentences[x])\n",
    "    model_wer.append(wer(sentences[x], predictions_sentences[x]))\n",
    "    thresh.append(selected_sentences[x])\n",
    "    thresh_wer.append(wer(sentences[x], selected_sentences[x]))\n",
    "\n",
    "compare = pd.DataFrame()\n",
    "compare['truth'] = truth\n",
    "compare['machine'] = best_machine\n",
    "compare['machine_wer'] = machine_wer\n",
    "compare['model_prediction'] = model_prediction\n",
    "compare['model_wer'] = model_wer\n",
    "compare['selected'] = thresh\n",
    "compare['selected_wer'] = thresh_wer"
   ]
  },
  {
   "cell_type": "code",
   "execution_count": 19,
   "metadata": {},
   "outputs": [],
   "source": [
    "#compare.to_pickle(path + \"/assessment_model(with_thres).pkl\")"
   ]
  },
  {
   "cell_type": "code",
   "execution_count": 17,
   "metadata": {},
   "outputs": [
    {
     "data": {
      "text/html": [
       "<div>\n",
       "<style scoped>\n",
       "    .dataframe tbody tr th:only-of-type {\n",
       "        vertical-align: middle;\n",
       "    }\n",
       "\n",
       "    .dataframe tbody tr th {\n",
       "        vertical-align: top;\n",
       "    }\n",
       "\n",
       "    .dataframe thead th {\n",
       "        text-align: right;\n",
       "    }\n",
       "</style>\n",
       "<table border=\"1\" class=\"dataframe\">\n",
       "  <thead>\n",
       "    <tr style=\"text-align: right;\">\n",
       "      <th></th>\n",
       "      <th>truth</th>\n",
       "      <th>machine</th>\n",
       "      <th>machine_wer</th>\n",
       "      <th>model_prediction</th>\n",
       "      <th>model_wer</th>\n",
       "      <th>selected</th>\n",
       "      <th>selected_wer</th>\n",
       "    </tr>\n",
       "  </thead>\n",
       "  <tbody>\n",
       "    <tr>\n",
       "      <th>0</th>\n",
       "      <td>it was produced on one hand by the natural gro...</td>\n",
       "      <td>it was produced on one hand by the natural gro...</td>\n",
       "      <td>0.000000</td>\n",
       "      <td>it was produced on one hand by the natural gro...</td>\n",
       "      <td>0.100000</td>\n",
       "      <td>it was produced on one hand by the natural gro...</td>\n",
       "      <td>0.150000</td>\n",
       "    </tr>\n",
       "    <tr>\n",
       "      <th>1</th>\n",
       "      <td>the upper classes know that an army of fifty t...</td>\n",
       "      <td>the upper classes know that an army of fifty t...</td>\n",
       "      <td>0.567568</td>\n",
       "      <td>the vacantly classes know that an army of fift...</td>\n",
       "      <td>0.216216</td>\n",
       "      <td>the _ _ know that an army of fifty thousand wi...</td>\n",
       "      <td>0.270270</td>\n",
       "    </tr>\n",
       "    <tr>\n",
       "      <th>2</th>\n",
       "      <td>but the fatal significance of universal milita...</td>\n",
       "      <td>but the fatal significance of universal milita...</td>\n",
       "      <td>2.111111</td>\n",
       "      <td>but the identify of universal military service...</td>\n",
       "      <td>0.222222</td>\n",
       "      <td>but the _ of universal military service as the...</td>\n",
       "      <td>0.222222</td>\n",
       "    </tr>\n",
       "    <tr>\n",
       "      <th>3</th>\n",
       "      <td>but since this is not the case and on the cont...</td>\n",
       "      <td>but since this is not the case and on the cont...</td>\n",
       "      <td>2.289474</td>\n",
       "      <td>but since this is not the case and on the cont...</td>\n",
       "      <td>0.105263</td>\n",
       "      <td>_ _ this is not the case and on the contrary m...</td>\n",
       "      <td>0.157895</td>\n",
       "    </tr>\n",
       "    <tr>\n",
       "      <th>4</th>\n",
       "      <td>we know now that threats and punishments canno...</td>\n",
       "      <td>we now know that threats and punishments canno...</td>\n",
       "      <td>5.125000</td>\n",
       "      <td>we now know that threats and punishment cannot...</td>\n",
       "      <td>0.125000</td>\n",
       "      <td>we now know that _ and _ _ diminish their numb...</td>\n",
       "      <td>0.291667</td>\n",
       "    </tr>\n",
       "  </tbody>\n",
       "</table>\n",
       "</div>"
      ],
      "text/plain": [
       "                                               truth  \\\n",
       "0  it was produced on one hand by the natural gro...   \n",
       "1  the upper classes know that an army of fifty t...   \n",
       "2  but the fatal significance of universal milita...   \n",
       "3  but since this is not the case and on the cont...   \n",
       "4  we know now that threats and punishments canno...   \n",
       "\n",
       "                                             machine  machine_wer  \\\n",
       "0  it was produced on one hand by the natural gro...     0.000000   \n",
       "1  the upper classes know that an army of fifty t...     0.567568   \n",
       "2  but the fatal significance of universal milita...     2.111111   \n",
       "3  but since this is not the case and on the cont...     2.289474   \n",
       "4  we now know that threats and punishments canno...     5.125000   \n",
       "\n",
       "                                    model_prediction  model_wer  \\\n",
       "0  it was produced on one hand by the natural gro...   0.100000   \n",
       "1  the vacantly classes know that an army of fift...   0.216216   \n",
       "2  but the identify of universal military service...   0.222222   \n",
       "3  but since this is not the case and on the cont...   0.105263   \n",
       "4  we now know that threats and punishment cannot...   0.125000   \n",
       "\n",
       "                                            selected  selected_wer  \n",
       "0  it was produced on one hand by the natural gro...      0.150000  \n",
       "1  the _ _ know that an army of fifty thousand wi...      0.270270  \n",
       "2  but the _ of universal military service as the...      0.222222  \n",
       "3  _ _ this is not the case and on the contrary m...      0.157895  \n",
       "4  we now know that _ and _ _ diminish their numb...      0.291667  "
      ]
     },
     "execution_count": 17,
     "metadata": {},
     "output_type": "execute_result"
    }
   ],
   "source": [
    "compare = pd.read_pickle(\"./Data/assessment_model(with_thres).pkl\") \n",
    "compare.head()"
   ]
  },
  {
   "cell_type": "code",
   "execution_count": 18,
   "metadata": {},
   "outputs": [
    {
     "name": "stdout",
     "output_type": "stream",
     "text": [
      "WER mean machines:  0.09467166309778731\n",
      "WER mean voting  :  0.14165723781358147\n",
      "WER mean model   :  0.22380283015956318\n",
      "WER mean model   :  0.30564245666530276\n"
     ]
    }
   ],
   "source": [
    "print('WER mean machines: ', assessment_df['min_wer'].mean())\n",
    "print('WER mean voting  : ', assessment_df['voting_wer'].mean())\n",
    "print('WER mean model   : ', assessment_df['model_wer'].mean())\n",
    "print('WER mean model   : ', compare.selected_wer.mean())"
   ]
  }
 ],
 "metadata": {
  "kernelspec": {
   "display_name": "Python 3",
   "language": "python",
   "name": "python3"
  },
  "language_info": {
   "codemirror_mode": {
    "name": "ipython",
    "version": 3
   },
   "file_extension": ".py",
   "mimetype": "text/x-python",
   "name": "python",
   "nbconvert_exporter": "python",
   "pygments_lexer": "ipython3",
   "version": "3.6.9"
  }
 },
 "nbformat": 4,
 "nbformat_minor": 4
}
